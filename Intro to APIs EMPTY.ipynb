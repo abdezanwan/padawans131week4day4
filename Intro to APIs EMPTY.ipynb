{
 "cells": [
  {
   "cell_type": "markdown",
   "id": "7196054f",
   "metadata": {},
   "source": [
    "# Working with APIs"
   ]
  },
  {
   "cell_type": "markdown",
   "id": "0547b71e",
   "metadata": {},
   "source": [
    "API stands for Application programming interface<br>\n",
    "APIs are a way for applications to talk to eachother<br>\n",
    "In python we use the requests package to handle the connection<br>\n",
    "<small><strong>Note: It is requests with an s not request(this is a different package)</strong></small><br>\n",
    "Most API's communicate with data in the form of JSON<br>\n",
    "JSON stands for JavaScript Object Notation"
   ]
  },
  {
   "cell_type": "code",
   "execution_count": 1,
   "id": "4db9d154",
   "metadata": {},
   "outputs": [],
   "source": [
    "#import the packages we need:\n",
    "import requests"
   ]
  },
  {
   "cell_type": "markdown",
   "id": "e8c2ce51",
   "metadata": {},
   "source": [
    "We will be connecting to the Ergast F1 Racer API today:\n",
    "http://ergast.com/mrd/\n",
    "\n",
    "to view JSON data nicely in the Chrome browser install the extension JSONview"
   ]
  },
  {
   "cell_type": "code",
   "execution_count": null,
   "id": "52c440c6",
   "metadata": {},
   "outputs": [],
   "source": []
  },
  {
   "cell_type": "code",
   "execution_count": null,
   "id": "f60c1b4a",
   "metadata": {},
   "outputs": [],
   "source": []
  },
  {
   "cell_type": "code",
   "execution_count": 2,
   "id": "7b63a204",
   "metadata": {},
   "outputs": [],
   "source": [
    "#response object\n"
   ]
  },
  {
   "cell_type": "code",
   "execution_count": 3,
   "id": "c6d1fdaf",
   "metadata": {},
   "outputs": [],
   "source": [
    "#check and make sure we got a successful response from the API\n"
   ]
  },
  {
   "cell_type": "code",
   "execution_count": 4,
   "id": "ed4d3256",
   "metadata": {},
   "outputs": [],
   "source": [
    "#view the response as a JSON\n"
   ]
  },
  {
   "cell_type": "code",
   "execution_count": null,
   "id": "92e6cd2c",
   "metadata": {},
   "outputs": [],
   "source": []
  },
  {
   "cell_type": "code",
   "execution_count": 5,
   "id": "f074dfcf",
   "metadata": {},
   "outputs": [],
   "source": [
    "# We only want the Driver Standings\n"
   ]
  },
  {
   "cell_type": "code",
   "execution_count": null,
   "id": "be46a950",
   "metadata": {},
   "outputs": [],
   "source": []
  },
  {
   "cell_type": "code",
   "execution_count": null,
   "id": "3740c752",
   "metadata": {},
   "outputs": [],
   "source": []
  },
  {
   "cell_type": "markdown",
   "id": "6d546014",
   "metadata": {},
   "source": [
    "# <strong>Homework</strong>\n",
    "check out this Pokemon API https://pokeapi.co/\n",
    "Use the requests package to connect to this API and get and store data for 5 different pokemon.\n",
    "Get the pokemons: name, atleast one ability's name, base_experience, and the URL for its sprite (an image that shows up on screen) for the 'front_shiny', attack base_state, hp base_stat, defense base_stat"
   ]
  },
  {
   "cell_type": "code",
   "execution_count": 32,
   "id": "5a9081e3",
   "metadata": {},
   "outputs": [
    {
     "name": "stdout",
     "output_type": "stream",
     "text": [
      "Name: pikachu\n",
      "Abilities: static, lightning-rod\n",
      "Base Experience: 112\n",
      "Sprite URL (front_shiny): https://raw.githubusercontent.com/PokeAPI/sprites/master/sprites/pokemon/shiny/25.png\n",
      "Attack Base Stat: 55\n",
      "HP Base Stat: 35\n",
      "Defense Base Stat: 40\n"
     ]
    }
   ],
   "source": [
    "import requests\n",
    "\n",
    "def get_pokemon_data(p_name):\n",
    "   \n",
    "    url = f\"https://pokeapi.co/api/v2/pokemon/{p_name}/\"\n",
    "    \n",
    "    r = requests.get(url)\n",
    "    \n",
    "    if r.status_code == 200:\n",
    "        p_info = r.json()\n",
    "        \n",
    "        name = p_info['name']\n",
    "        abilities = [ability['ability']['name'] for ability in p_info['abilities']]\n",
    "        experience = p_info['base_experience']\n",
    "        shiny = p_info['sprites']['front_shiny']\n",
    "        attack_stat = None\n",
    "        hp_stat = None\n",
    "        defense_stat = None\n",
    "        \n",
    "        for stat in p_info['stats']:\n",
    "            stat_name = stat['stat']['name']\n",
    "            if stat_name == 'attack':\n",
    "                attack_stat = stat['base_stat']\n",
    "            elif stat_name == 'hp':\n",
    "                hp_stat = stat['base_stat']\n",
    "            elif stat_name == 'defense':\n",
    "                defense_stat = stat['base_stat']\n",
    "        \n",
    "     \n",
    "        p_details = {\n",
    "            'name': name,\n",
    "            'abilities': abilities,\n",
    "            'base_experience': experience,\n",
    "            'sprite_url_front_shiny': shiny,\n",
    "            'attack_stat': attack_stat,\n",
    "            'hp_stat': hp_stat,\n",
    "            'defense_stat': defense_stat\n",
    "        }\n",
    "        \n",
    "        return p_details\n",
    "    else:\n",
    "        print(f\"No data for for this input {p_name}\")\n",
    "        return None\n",
    "\n",
    "pikachu = get_pokemon_data('pikachu')\n",
    "if pikachu:\n",
    "    print(f\"Name: {pikachu['name']}\")\n",
    "    print(f\"Abilities: {', '.join(pikachu['abilities'])}\")\n",
    "    print(f\"Base Experience: {pikachu['base_experience']}\")\n",
    "    print(f\"Sprite URL (front_shiny): {pikachu['sprite_url_front_shiny']}\")\n",
    "    print(f\"Attack Base Stat: {pikachu['attack_stat']}\")\n",
    "    print(f\"HP Base Stat: {pikachu['hp_stat']}\")\n",
    "    print(f\"Defense Base Stat: {pikachu['defense_stat']}\")\n"
   ]
  }
 ],
 "metadata": {
  "kernelspec": {
   "display_name": "Python 3",
   "language": "python",
   "name": "python3"
  },
  "language_info": {
   "codemirror_mode": {
    "name": "ipython",
    "version": 3
   },
   "file_extension": ".py",
   "mimetype": "text/x-python",
   "name": "python",
   "nbconvert_exporter": "python",
   "pygments_lexer": "ipython3",
   "version": "3.9.1"
  }
 },
 "nbformat": 4,
 "nbformat_minor": 5
}
